{
 "cells": [
  {
   "cell_type": "code",
   "execution_count": null,
   "id": "05354e99-5af7-4767-89ee-f82e9b859e37",
   "metadata": {},
   "outputs": [],
   "source": [
    "    #           TOPIC :BASIC PYHTON VARIABLE"
   ]
  },
  {
   "cell_type": "code",
   "execution_count": 59,
   "id": "a8665d8e-4841-411e-aca6-024a38274f8f",
   "metadata": {},
   "outputs": [],
   "source": [
    "#Declare two variables, `x` and `y`, and assign them integer values.\n",
    "#Swap the values of these variables without using any temporary\n",
    "#variable."
   ]
  },
  {
   "cell_type": "code",
   "execution_count": 60,
   "id": "68a5796a-fd2c-477e-8b27-649cf3852255",
   "metadata": {},
   "outputs": [],
   "source": [
    "x =5"
   ]
  },
  {
   "cell_type": "code",
   "execution_count": 61,
   "id": "f2fa4e70-0858-4462-8e5e-4b49d4a6772d",
   "metadata": {},
   "outputs": [
    {
     "data": {
      "text/plain": [
       "int"
      ]
     },
     "execution_count": 61,
     "metadata": {},
     "output_type": "execute_result"
    }
   ],
   "source": [
    "type(x) "
   ]
  },
  {
   "cell_type": "code",
   "execution_count": 62,
   "id": "2c3ecd08-14df-4025-bb6e-95f967e0e517",
   "metadata": {},
   "outputs": [],
   "source": [
    "# this prove that the value that I assign integer value in x"
   ]
  },
  {
   "cell_type": "code",
   "execution_count": 63,
   "id": "b3b7c85f-1b39-4cf5-bef8-731e98e9780f",
   "metadata": {},
   "outputs": [],
   "source": [
    "y=8"
   ]
  },
  {
   "cell_type": "code",
   "execution_count": 64,
   "id": "b31b38c3-1085-41f3-b8e5-0366fc4e3dd4",
   "metadata": {},
   "outputs": [
    {
     "data": {
      "text/plain": [
       "int"
      ]
     },
     "execution_count": 64,
     "metadata": {},
     "output_type": "execute_result"
    }
   ],
   "source": [
    "type(y)"
   ]
  },
  {
   "cell_type": "code",
   "execution_count": 65,
   "id": "6609bb51-82f1-4aff-a9a0-3224ae2b1fa2",
   "metadata": {},
   "outputs": [],
   "source": [
    "# this prove that the value that I assign integer value in y."
   ]
  },
  {
   "cell_type": "code",
   "execution_count": 66,
   "id": "3b001b5e-91d6-4fa9-9c5e-4eb0d1625ed0",
   "metadata": {},
   "outputs": [
    {
     "name": "stdout",
     "output_type": "stream",
     "text": [
      "before swapping x 5 before swapping 8\n"
     ]
    }
   ],
   "source": [
    "print(\"before swapping x\",x,\"before swapping\",y)"
   ]
  },
  {
   "cell_type": "code",
   "execution_count": 67,
   "id": "89f452e9-e316-4fd5-8b0d-3dd26a281b63",
   "metadata": {},
   "outputs": [],
   "source": [
    "# according to question till now i have assign a integer value in x and y Now i'm doing swapping. SWAP"
   ]
  },
  {
   "cell_type": "code",
   "execution_count": 68,
   "id": "588daaaa-cdc2-4541-b576-c9f8ccca2527",
   "metadata": {},
   "outputs": [],
   "source": [
    "x = x + y"
   ]
  },
  {
   "cell_type": "code",
   "execution_count": 69,
   "id": "fc3d9be3-796d-41e7-8071-b25b83dd46c3",
   "metadata": {},
   "outputs": [],
   "source": [
    "y = x - y"
   ]
  },
  {
   "cell_type": "code",
   "execution_count": 70,
   "id": "245fd55b-7be1-4576-9859-f050c4aa7428",
   "metadata": {},
   "outputs": [],
   "source": [
    "x =x - y"
   ]
  },
  {
   "cell_type": "code",
   "execution_count": 71,
   "id": "c5075069-2f37-4e5a-b983-ecfd3bac5f01",
   "metadata": {},
   "outputs": [
    {
     "name": "stdout",
     "output_type": "stream",
     "text": [
      "After swapping value of x: 8 and value of y: 5\n"
     ]
    }
   ],
   "source": [
    "print(\"After swapping value of x:\",x,\"and value of y:\",y)"
   ]
  },
  {
   "cell_type": "code",
   "execution_count": 29,
   "id": "74377c3c-7149-4198-b0a9-fb91801226df",
   "metadata": {},
   "outputs": [],
   "source": [
    "# we have to declare value of x and y after that i use type function to konw data type of value .after that i proceed to swapping  here in 1 x assiging 13 \n",
    "# andy=5 and after x 8 so after performming this operation swapping condition satisfied so now we can print swapped value of x and y."
   ]
  },
  {
   "cell_type": "code",
   "execution_count": 72,
   "id": "e128256f-8fc4-49c3-945b-25e1215985c4",
   "metadata": {},
   "outputs": [
    {
     "data": {
      "text/plain": [
       "'Q2. Create a program that calculates the area of a rectangle. Take the\\nlength and width as inputs from the user and store them in variables.\\nCalculate and display the area.'"
      ]
     },
     "execution_count": 72,
     "metadata": {},
     "output_type": "execute_result"
    }
   ],
   "source": [
    "\"\"\"Q2. Create a program that calculates the area of a rectangle. Take the\n",
    "length and width as inputs from the user and store them in variables.\n",
    "Calculate and display the area.\"\"\""
   ]
  },
  {
   "cell_type": "code",
   "execution_count": 77,
   "id": "8fdb852a-ebe2-49e5-9976-60c7792d2c81",
   "metadata": {},
   "outputs": [
    {
     "name": "stdin",
     "output_type": "stream",
     "text": [
      "Enter a value of length: 5\n"
     ]
    }
   ],
   "source": [
    "length =input(\"Enter a value of length:\")"
   ]
  },
  {
   "cell_type": "code",
   "execution_count": 76,
   "id": "ec37324c-d38c-4d7f-9b56-700e6da9fed1",
   "metadata": {},
   "outputs": [
    {
     "name": "stdin",
     "output_type": "stream",
     "text": [
      "Enter a value of breadth: 8\n"
     ]
    }
   ],
   "source": [
    "breadth=input(\"Enter a value of breadth:\")"
   ]
  },
  {
   "cell_type": "code",
   "execution_count": 86,
   "id": "7ae34fb8-ce24-4800-a531-32ae60a22e7c",
   "metadata": {},
   "outputs": [],
   "source": [
    "length =int(length)     #here i do typecasting because type error can't multiply sequence by non-int of type 'str' "
   ]
  },
  {
   "cell_type": "code",
   "execution_count": 87,
   "id": "a816cdf2-ca3f-4700-9d0b-fb7e5f136b7f",
   "metadata": {},
   "outputs": [
    {
     "data": {
      "text/plain": [
       "int"
      ]
     },
     "execution_count": 87,
     "metadata": {},
     "output_type": "execute_result"
    }
   ],
   "source": [
    "type(length)"
   ]
  },
  {
   "cell_type": "code",
   "execution_count": 88,
   "id": "209b7c19-7b01-4886-b071-da040a0ebdc8",
   "metadata": {},
   "outputs": [],
   "source": [
    "breadth=int(breadth)"
   ]
  },
  {
   "cell_type": "code",
   "execution_count": 89,
   "id": "64916196-1e71-428e-ac17-18aca4502569",
   "metadata": {},
   "outputs": [
    {
     "data": {
      "text/plain": [
       "int"
      ]
     },
     "execution_count": 89,
     "metadata": {},
     "output_type": "execute_result"
    }
   ],
   "source": [
    "type(breadth)           #here i do typecasting because type error can't multiply sequence by non-int of type 'str' "
   ]
  },
  {
   "cell_type": "code",
   "execution_count": 90,
   "id": "6c42b317-d63d-4244-a346-aa2673da55aa",
   "metadata": {},
   "outputs": [],
   "source": [
    "area=length * breadth"
   ]
  },
  {
   "cell_type": "code",
   "execution_count": 91,
   "id": "43f72247-88e3-407c-98ce-51e36e7308e3",
   "metadata": {},
   "outputs": [
    {
     "name": "stdout",
     "output_type": "stream",
     "text": [
      "Area of reactangle: 40\n"
     ]
    }
   ],
   "source": [
    "print(\"Area of reactangle:\",area)"
   ]
  },
  {
   "cell_type": "code",
   "execution_count": 30,
   "id": "4e9aaabd-cd2c-4e1b-8465-5bd72587eb55",
   "metadata": {},
   "outputs": [],
   "source": [
    "# a/c here we take input from user but in input case we get value in string format so we need to do typecaste of both lenght and breadth into int \n",
    "# data type then apply formula of area of rectangle then print the area."
   ]
  },
  {
   "cell_type": "code",
   "execution_count": 92,
   "id": "77ac95bf-ffed-473d-a167-90388d0f79bf",
   "metadata": {},
   "outputs": [
    {
     "data": {
      "text/plain": [
       "'Q3.Write a Python program that converts temperature from Celsius to\\nFahrenheit. Take the temperature in Celsius as input, store it in a\\nvariable, convert it to Fahrenheit, and display the result.'"
      ]
     },
     "execution_count": 92,
     "metadata": {},
     "output_type": "execute_result"
    }
   ],
   "source": [
    "\"\"\"Q3.Write a Python program that converts temperature from Celsius to\n",
    "Fahrenheit. Take the temperature in Celsius as input, store it in a\n",
    "variable, convert it to Fahrenheit, and display the result.\"\"\""
   ]
  },
  {
   "cell_type": "code",
   "execution_count": 93,
   "id": "70af7222-aa61-47f8-88f7-5fad2fa4d994",
   "metadata": {},
   "outputs": [
    {
     "name": "stdin",
     "output_type": "stream",
     "text": [
      "Enter a value of celsius 33\n"
     ]
    }
   ],
   "source": [
    "celsius =input(\"Enter a value of celsius\")"
   ]
  },
  {
   "cell_type": "code",
   "execution_count": 94,
   "id": "de798f0a-e4cf-4240-9117-0d55bbc059a2",
   "metadata": {},
   "outputs": [],
   "source": [
    "celsius=float(celsius)"
   ]
  },
  {
   "cell_type": "code",
   "execution_count": 95,
   "id": "a6f2713e-e1a7-4d52-99bf-b044afc001a7",
   "metadata": {},
   "outputs": [
    {
     "data": {
      "text/plain": [
       "33.0"
      ]
     },
     "execution_count": 95,
     "metadata": {},
     "output_type": "execute_result"
    }
   ],
   "source": [
    "celsius"
   ]
  },
  {
   "cell_type": "code",
   "execution_count": 97,
   "id": "f118363d-6402-4d81-a0ef-96e9f24c2f75",
   "metadata": {},
   "outputs": [],
   "source": [
    "fahrenheit = (celsius * 9/5) + 32"
   ]
  },
  {
   "cell_type": "code",
   "execution_count": 100,
   "id": "06a05a3b-aae6-4694-9c98-0156789832a2",
   "metadata": {},
   "outputs": [
    {
     "name": "stdout",
     "output_type": "stream",
     "text": [
      "after converting celsius to frahrenheit  91.4\n"
     ]
    }
   ],
   "source": [
    "print(\"after converting celsius to frahrenheit \",fahrenheit)"
   ]
  },
  {
   "cell_type": "code",
   "execution_count": 101,
   "id": "0c7ca8a9-7e3e-4927-a38a-14d79dbf6c15",
   "metadata": {},
   "outputs": [],
   "source": [
    "# i take input of celsius from user and typecast celsius into float because temperture can in decimal then i use converting formula and after converting then i display the result"
   ]
  },
  {
   "cell_type": "code",
   "execution_count": 102,
   "id": "4cf2e4e5-d22f-48ad-93e2-82a777e103a1",
   "metadata": {},
   "outputs": [],
   "source": [
    "                           # TOPIC: QUESTION BASED ON STRING"
   ]
  },
  {
   "cell_type": "code",
   "execution_count": 118,
   "id": "21eabd55-00f9-4b39-877f-3977226673e5",
   "metadata": {},
   "outputs": [
    {
     "data": {
      "text/plain": [
       "' Q1. Write a Python program that takes a string as input and prints thelength of the string.'"
      ]
     },
     "execution_count": 118,
     "metadata": {},
     "output_type": "execute_result"
    }
   ],
   "source": [
    "\"\"\" Q1. Write a Python program that takes a string as input and prints thelength of the string.\"\"\""
   ]
  },
  {
   "cell_type": "code",
   "execution_count": 110,
   "id": "8c5ae66c-5a5d-4a53-b208-b94c98e95236",
   "metadata": {},
   "outputs": [
    {
     "name": "stdin",
     "output_type": "stream",
     "text": [
      "enter a string value siddhartha roy\n"
     ]
    }
   ],
   "source": [
    "a=str(input(\"enter a string value\"))"
   ]
  },
  {
   "cell_type": "code",
   "execution_count": 113,
   "id": "20e855b3-4432-4798-9432-dab49a364595",
   "metadata": {},
   "outputs": [
    {
     "data": {
      "text/plain": [
       "str"
      ]
     },
     "execution_count": 113,
     "metadata": {},
     "output_type": "execute_result"
    }
   ],
   "source": [
    "type(a)     # this assure me that the input is in string"
   ]
  },
  {
   "cell_type": "code",
   "execution_count": 115,
   "id": "26525982-296b-46a5-9b59-86068f1d6b72",
   "metadata": {},
   "outputs": [
    {
     "data": {
      "text/plain": [
       "14"
      ]
     },
     "execution_count": 115,
     "metadata": {},
     "output_type": "execute_result"
    }
   ],
   "source": [
    "len(a)    # here is  the length of string."
   ]
  },
  {
   "cell_type": "code",
   "execution_count": 117,
   "id": "159e5151-17b4-49f1-893e-8cba800d04d4",
   "metadata": {},
   "outputs": [],
   "source": [
    "# here i take input as in question given that we have to take inout in string so i use string before input by using type(a) it is get assurity that it is string\n",
    "#after that i display the length so use lenght function len()."
   ]
  },
  {
   "cell_type": "code",
   "execution_count": 119,
   "id": "863f5893-15db-4d6b-8f62-24cf0b34c2ed",
   "metadata": {},
   "outputs": [
    {
     "data": {
      "text/plain": [
       "' Q2. Create a program that takes a sentence from the user and counts the\\nnumber of vowels (a, e, i, o, u) in the string.'"
      ]
     },
     "execution_count": 119,
     "metadata": {},
     "output_type": "execute_result"
    }
   ],
   "source": [
    "\"\"\" Q2. Create a program that takes a sentence from the user and counts the\n",
    "number of vowels (a, e, i, o, u) in the string.\"\"\""
   ]
  },
  {
   "cell_type": "code",
   "execution_count": 140,
   "id": "7263779a-0f07-41db-8cd9-8fd660dede56",
   "metadata": {},
   "outputs": [
    {
     "name": "stdin",
     "output_type": "stream",
     "text": [
      "enter a sentence: SiDDhartha EYe colour is orange\n"
     ]
    }
   ],
   "source": [
    "s =input(\"enter a sentence:\")"
   ]
  },
  {
   "cell_type": "code",
   "execution_count": 141,
   "id": "604aa9b1-9f12-434f-b895-07b85b14f0e0",
   "metadata": {},
   "outputs": [],
   "source": [
    "s=s.lower()"
   ]
  },
  {
   "cell_type": "code",
   "execution_count": 142,
   "id": "fa49e807-c2a6-496f-aceb-ea4068b99a82",
   "metadata": {},
   "outputs": [],
   "source": [
    "vowel_count=0"
   ]
  },
  {
   "cell_type": "code",
   "execution_count": 143,
   "id": "90354bc2-5b32-4858-8c78-df76cfe82983",
   "metadata": {},
   "outputs": [],
   "source": [
    "vowel=\"aeiou\""
   ]
  },
  {
   "cell_type": "code",
   "execution_count": 146,
   "id": "295d74ae-fef2-45fd-aa92-da74fd407808",
   "metadata": {},
   "outputs": [],
   "source": [
    "for char in s:\n",
    "    if char in vowel:\n",
    "        vowel_count += 1"
   ]
  },
  {
   "cell_type": "code",
   "execution_count": 147,
   "id": "6c41e0dd-2457-465b-8313-7bb1490ba9e0",
   "metadata": {},
   "outputs": [
    {
     "name": "stdout",
     "output_type": "stream",
     "text": [
      "Number of vowels in the sentence: 12\n"
     ]
    }
   ],
   "source": [
    "print(\"Number of vowels in the sentence:\", vowel_count)\n"
   ]
  },
  {
   "cell_type": "code",
   "execution_count": 148,
   "id": "44f83495-195c-4288-b9c0-7c8b694206fb",
   "metadata": {},
   "outputs": [],
   "source": [
    "# take input of sentence and then covert into lower case beacuse vowel in lower case or we can use both (A a) this way in which we did'nt need to covert sentence into lowercase.\n",
    "# we initalize vowel count to keep record of no. of vowel and vowel for telling about  vowel aeiou.then i use loop to increase vowel count after all them i print number of vowel"
   ]
  },
  {
   "cell_type": "code",
   "execution_count": 149,
   "id": "93c987ab-a9d3-4547-8460-6814369d0417",
   "metadata": {},
   "outputs": [
    {
     "data": {
      "text/plain": [
       "'Q3.Given a string, reverse the order of characters using string slicing and\\nprint the reversed string.'"
      ]
     },
     "execution_count": 149,
     "metadata": {},
     "output_type": "execute_result"
    }
   ],
   "source": [
    "'''Q3.Given a string, reverse the order of characters using string slicing and\n",
    "print the reversed string.'''"
   ]
  },
  {
   "cell_type": "code",
   "execution_count": 150,
   "id": "8138e3d9-8c29-4904-9123-2f86545da66e",
   "metadata": {},
   "outputs": [],
   "source": [
    "s1=\"siddhartha\""
   ]
  },
  {
   "cell_type": "code",
   "execution_count": 157,
   "id": "8cd2af84-b1c1-4eb2-8887-73f18e1be6bf",
   "metadata": {},
   "outputs": [],
   "source": [
    "reverse=s1[::-1]"
   ]
  },
  {
   "cell_type": "code",
   "execution_count": 158,
   "id": "e88e1c23-d209-47ac-9059-40ebeef91a04",
   "metadata": {},
   "outputs": [
    {
     "name": "stdout",
     "output_type": "stream",
     "text": [
      "the reverse of given string: ahtrahddis\n"
     ]
    }
   ],
   "source": [
    "print(\"the reverse of given string:\",reverse)"
   ]
  },
  {
   "cell_type": "code",
   "execution_count": 159,
   "id": "bbdb98b1-208d-4c68-b514-b067900fb371",
   "metadata": {},
   "outputs": [],
   "source": [
    "# s1 is string taken by me after that this s1[::-1] slice notation starts from the  and goes backward and this reverse the order of s1.then i store the reverse character into \n",
    "#reverse variable then print it."
   ]
  },
  {
   "cell_type": "code",
   "execution_count": 20,
   "id": "51007367-b310-419e-8c52-37b682308754",
   "metadata": {},
   "outputs": [],
   "source": [
    "# Q4 .Write a program that takes a string as input and checks if it is a palindrome (reads the same forwards and backwards)."
   ]
  },
  {
   "cell_type": "code",
   "execution_count": 15,
   "id": "d4991bbf-111a-4e8d-a2c8-3bf5140a562a",
   "metadata": {},
   "outputs": [
    {
     "name": "stdin",
     "output_type": "stream",
     "text": [
      "Enter a string malayalam\n"
     ]
    }
   ],
   "source": [
    "s2=input(\"Enter a string\")"
   ]
  },
  {
   "cell_type": "code",
   "execution_count": 16,
   "id": "93fc9b50-dc06-4736-82f1-362954ba9500",
   "metadata": {},
   "outputs": [],
   "source": [
    "reverse= s2[::-1]"
   ]
  },
  {
   "cell_type": "code",
   "execution_count": 17,
   "id": "d3a50eaa-98ef-4154-b248-45d52081e35e",
   "metadata": {},
   "outputs": [],
   "source": [
    "#checking wheather the given string is palindrome or not."
   ]
  },
  {
   "cell_type": "code",
   "execution_count": 18,
   "id": "3b0f60b7-9323-4a7f-a55d-2466e934a6ba",
   "metadata": {},
   "outputs": [
    {
     "name": "stdout",
     "output_type": "stream",
     "text": [
      "the given string is palindrome\n"
     ]
    }
   ],
   "source": [
    "if s2 == reverse :\n",
    "    print(\"the given string is palindrome\")\n",
    "else:\n",
    "    print(\"the given string is not palindrome\")"
   ]
  },
  {
   "cell_type": "code",
   "execution_count": 19,
   "id": "8b28a287-a344-47b4-b2c5-7e11c96b3f45",
   "metadata": {},
   "outputs": [],
   "source": [
    "#i input from user and then reverse string with slicing and then compare with if statement if it satisfy then print it is palindrome otherwise not palindrome."
   ]
  },
  {
   "cell_type": "code",
   "execution_count": 22,
   "id": "ca779580-b4ce-40b7-b1ab-4404a2925a96",
   "metadata": {},
   "outputs": [],
   "source": [
    "# Q5. Create a program that takes a string as input and removes all the spaces from it. Print the modified string without spaces."
   ]
  },
  {
   "cell_type": "code",
   "execution_count": 23,
   "id": "595128e1-54aa-4a59-902b-5071cc712e96",
   "metadata": {},
   "outputs": [
    {
     "name": "stdin",
     "output_type": "stream",
     "text": [
      "enter a string p      w s   ki  l     l     s\n"
     ]
    }
   ],
   "source": [
    "string =input(\"enter a string\")"
   ]
  },
  {
   "cell_type": "code",
   "execution_count": 25,
   "id": "2e33eb9f-0ca3-46f0-9206-601357ef1d0b",
   "metadata": {},
   "outputs": [],
   "source": [
    "changed_string =string.replace(\" \",\"\")"
   ]
  },
  {
   "cell_type": "code",
   "execution_count": 27,
   "id": "b1af971e-f6ac-4183-a536-4cc12de655b8",
   "metadata": {},
   "outputs": [
    {
     "name": "stdout",
     "output_type": "stream",
     "text": [
      "printing string without space: pwskills\n"
     ]
    }
   ],
   "source": [
    "print(\"printing string without space:\",changed_string)"
   ]
  },
  {
   "cell_type": "code",
   "execution_count": 28,
   "id": "e95dcad4-35a2-4f5f-af77-95ddcb2aa087",
   "metadata": {},
   "outputs": [],
   "source": [
    "# here we take a string input from user then we use replace() function in 1 argument \" \" this specifiy space character and empty string\n",
    "# 2 nd argument are used to remove all space  then changed_string is with no space now finally we can print this ."
   ]
  },
  {
   "cell_type": "code",
   "execution_count": 31,
   "id": "ce8d1130-773e-4633-8ead-bf2e18f89dae",
   "metadata": {},
   "outputs": [],
   "source": [
    "                                    #  END     ........................................"
   ]
  },
  {
   "cell_type": "code",
   "execution_count": null,
   "id": "2fe66c09-1897-4849-ab01-16c7261b7f58",
   "metadata": {},
   "outputs": [],
   "source": []
  }
 ],
 "metadata": {
  "kernelspec": {
   "display_name": "Python 3 (ipykernel)",
   "language": "python",
   "name": "python3"
  },
  "language_info": {
   "codemirror_mode": {
    "name": "ipython",
    "version": 3
   },
   "file_extension": ".py",
   "mimetype": "text/x-python",
   "name": "python",
   "nbconvert_exporter": "python",
   "pygments_lexer": "ipython3",
   "version": "3.10.8"
  }
 },
 "nbformat": 4,
 "nbformat_minor": 5
}
